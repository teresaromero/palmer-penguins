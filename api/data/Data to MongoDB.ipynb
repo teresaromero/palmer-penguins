{
 "cells": [
  {
   "cell_type": "markdown",
   "source": [
    "# Populate the DB with CSV dataset"
   ],
   "metadata": {}
  },
  {
   "cell_type": "markdown",
   "source": [
    "## Modules needed and config\n",
    "\n",
    "Make sure you have a valid .env file to load the correct MONGO_URL"
   ],
   "metadata": {}
  },
  {
   "cell_type": "code",
   "execution_count": null,
   "source": [
    "import os\n",
    "from dotenv import load_dotenv\n",
    "load_dotenv()\n",
    "\n",
    "import pandas as pd\n",
    "\n",
    "from pymongo import MongoClient\n",
    "client = MongoClient(os.getenv(\"MONGO_URL\"))\n",
    "\n",
    "from datetime import datetime"
   ],
   "outputs": [],
   "metadata": {}
  },
  {
   "cell_type": "markdown",
   "source": [
    "## Import Dataset"
   ],
   "metadata": {}
  },
  {
   "cell_type": "code",
   "execution_count": null,
   "source": [
    "df_lter = pd.read_csv(\"./source/penguins_lter.csv\")"
   ],
   "outputs": [],
   "metadata": {}
  },
  {
   "cell_type": "markdown",
   "source": [
    "## Setup MongoDB client and collection for data"
   ],
   "metadata": {}
  },
  {
   "cell_type": "code",
   "execution_count": null,
   "source": [
    "db = client[\"palmer-penguins\"]\n",
    "collection_kpl = db[\"kaggle-penguins-lter\"]"
   ],
   "outputs": [],
   "metadata": {}
  },
  {
   "cell_type": "markdown",
   "source": [
    "## Dataset cleaning and formatting"
   ],
   "metadata": {}
  },
  {
   "cell_type": "code",
   "execution_count": null,
   "source": [
    "df_lter[\"Date Egg\"]=df_lter[\"Date Egg\"].apply(lambda e: datetime.strptime(e,'%m/%d/%y'))\n",
    "df_lter = df_lter.drop(\"Comments\", 1)\n",
    "df_lter = df_lter.rename(columns=lambda x: x.split(\n",
    "    \"(\")[0].strip().replace(\" \", \"_\").lower())\n",
    "df_lter[\"clutch_completion\"] = df_lter[\"clutch_completion\"].apply(\n",
    "    lambda x: True if x == \"Yes\" else False)"
   ],
   "outputs": [],
   "metadata": {}
  },
  {
   "cell_type": "markdown",
   "source": [
    "## Transform DataFrame to MongoDB documents and insert\n",
    "Output is the documents inserted on the database"
   ],
   "metadata": {}
  },
  {
   "cell_type": "code",
   "execution_count": null,
   "source": [
    "documents = df_lter.to_dict(\"records\")\n",
    "collection_kpl.drop()\n",
    "result = collection_kpl.insert_many(documents)\n",
    "len(result.inserted_ids)\n",
    "client.close()\n"
   ],
   "outputs": [],
   "metadata": {}
  }
 ],
 "metadata": {
  "kernelspec": {
   "name": "python3",
   "display_name": "Python 3.9.5 64-bit ('core': conda)"
  },
  "language_info": {
   "codemirror_mode": {
    "name": "ipython",
    "version": 3
   },
   "file_extension": ".py",
   "mimetype": "text/x-python",
   "name": "python",
   "nbconvert_exporter": "python",
   "pygments_lexer": "ipython3",
   "version": "3.9.5"
  },
  "toc": {
   "base_numbering": 1,
   "nav_menu": {},
   "number_sections": true,
   "sideBar": true,
   "skip_h1_title": false,
   "title_cell": "Table of Contents",
   "title_sidebar": "Contents",
   "toc_cell": false,
   "toc_position": {},
   "toc_section_display": true,
   "toc_window_display": false
  },
  "varInspector": {
   "cols": {
    "lenName": 16,
    "lenType": 16,
    "lenVar": 40
   },
   "kernels_config": {
    "python": {
     "delete_cmd_postfix": "",
     "delete_cmd_prefix": "del ",
     "library": "var_list.py",
     "varRefreshCmd": "print(var_dic_list())"
    },
    "r": {
     "delete_cmd_postfix": ") ",
     "delete_cmd_prefix": "rm(",
     "library": "var_list.r",
     "varRefreshCmd": "cat(var_dic_list()) "
    }
   },
   "types_to_exclude": [
    "module",
    "function",
    "builtin_function_or_method",
    "instance",
    "_Feature"
   ],
   "window_display": false
  },
  "interpreter": {
   "hash": "617baf094c207d53667057a81355ed8e45450f782c50f81de73cdf839b3f124b"
  }
 },
 "nbformat": 4,
 "nbformat_minor": 5
}