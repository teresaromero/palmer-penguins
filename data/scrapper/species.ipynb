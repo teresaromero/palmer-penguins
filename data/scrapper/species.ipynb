{
 "cells": [
  {
   "cell_type": "code",
   "execution_count": 9,
   "source": [
    "import requests\n",
    "from bs4 import BeautifulSoup\n",
    "import pandas as pd\n",
    "import unicodedata"
   ],
   "outputs": [],
   "metadata": {}
  },
  {
   "cell_type": "code",
   "execution_count": 13,
   "source": [
    "def normalize(s):\n",
    "    return unicodedata.normalize(\"NFD\",s).encode('ascii','ignore').decode(\"utf-8\")\n"
   ],
   "outputs": [],
   "metadata": {}
  },
  {
   "cell_type": "code",
   "execution_count": 2,
   "source": [
    "urls = [\"https://www.nationalgeographic.com/animals/birds/facts/gentoo-penguin\",\n",
    "        \"https://www.nationalgeographic.com/animals/birds/facts/adelie-penguin\",\n",
    "        \"https://www.nationalgeographic.com/animals/birds/facts/chinstrap-penguin\"]"
   ],
   "outputs": [],
   "metadata": {}
  },
  {
   "cell_type": "code",
   "execution_count": 3,
   "source": [
    "def get_html(url):\n",
    "    res = requests.get(url)\n",
    "    if res.status_code == 200:\n",
    "        return BeautifulSoup(res.text)\n",
    "    raise Exception(\"Bad Request\")"
   ],
   "outputs": [],
   "metadata": {}
  },
  {
   "cell_type": "code",
   "execution_count": 4,
   "source": [
    "def get_facts(html):\n",
    "    top_facts = html.select(\"div.FastFacts__TopFacts__Data\")\n",
    "    facts = {}\n",
    "    for f in top_facts:\n",
    "        key = f.select_one(\"dt\").get_text()\n",
    "        value = f.select_one(\"dd\").get_text()\n",
    "        facts[key] = value\n",
    "        \n",
    "    bottom_facts_status = html.select_one(\"div.FastFacts__BottomFacts__Status > div >dl\")\n",
    "    bottom_facts_status_key = bottom_facts_status.select_one(\"dt\").get_text()\n",
    "    bottom_facts_status_value = bottom_facts_status.select_one(\"dd\").get_text()\n",
    "    facts[bottom_facts_status_key] = bottom_facts_status_value\n",
    "    \n",
    "    bottom_facts_data = html.select_one(\"div.FastFacts__BottomFacts__Data > dl\")\n",
    "    bottom_facts_data_key = bottom_facts_data.select_one(\"dt\").get_text()\n",
    "    bottom_facts_data_value = bottom_facts_data.select_one(\"dd\").get_text()\n",
    "    bottom_facts_data_key,bottom_facts_data_value\n",
    "    facts[bottom_facts_data_key] = bottom_facts_data_value\n",
    "\n",
    "    return clean_dict(facts)"
   ],
   "outputs": [],
   "metadata": {}
  },
  {
   "cell_type": "code",
   "execution_count": 5,
   "source": [
    "def clean_dict(d):\n",
    "    clean = {}\n",
    "    for field in d:\n",
    "        clean_key = field.replace(\":\",\"\").replace(\"?\",\"\").strip().replace(\" \",\"_\").lower()\n",
    "        clean[clean_key] = normalize(d[field].strip().lower())\n",
    "    return clean"
   ],
   "outputs": [],
   "metadata": {}
  },
  {
   "cell_type": "code",
   "execution_count": 6,
   "source": [
    "data = []\n",
    "for url in urls:\n",
    "    html = get_html(url)\n",
    "    facts = get_facts(html)\n",
    "    data.append({**facts, \"source_url\":url})\n",
    "\n",
    "df = pd.DataFrame.from_dict(data)"
   ],
   "outputs": [],
   "metadata": {}
  },
  {
   "cell_type": "code",
   "execution_count": 7,
   "source": [
    "df"
   ],
   "outputs": [
    {
     "output_type": "execute_result",
     "data": {
      "text/plain": [
       "         common_name         scientific_name   type       diet group_name  \\\n",
       "0     gentoo penguin        pygoscelis papua  birds  carnivore     colony   \n",
       "1     adélie penguin      pygoscelis adeliae  birds  carnivore     colony   \n",
       "2  chinstrap penguin  pygoscelis antarcticus    NaN  carnivore     colony   \n",
       "\n",
       "  average_life_span_in_the_wild         size            weight  \\\n",
       "0                15 to 20 years    30 inches         12 pounds   \n",
       "1                11 to 20 years  27.5 inches  8.5 to 12 pounds   \n",
       "2                           NaN    28 inches   6.6–11.0 pounds   \n",
       "\n",
       "  iucn_red_list_status current_population_trend  \\\n",
       "0      near threatened               decreasing   \n",
       "1      near threatened               increasing   \n",
       "2        least concern               decreasing   \n",
       "\n",
       "                                          source_url  \n",
       "0  https://www.nationalgeographic.com/animals/bir...  \n",
       "1  https://www.nationalgeographic.com/animals/bir...  \n",
       "2  https://www.nationalgeographic.com/animals/bir...  "
      ],
      "text/html": [
       "<div>\n",
       "<style scoped>\n",
       "    .dataframe tbody tr th:only-of-type {\n",
       "        vertical-align: middle;\n",
       "    }\n",
       "\n",
       "    .dataframe tbody tr th {\n",
       "        vertical-align: top;\n",
       "    }\n",
       "\n",
       "    .dataframe thead th {\n",
       "        text-align: right;\n",
       "    }\n",
       "</style>\n",
       "<table border=\"1\" class=\"dataframe\">\n",
       "  <thead>\n",
       "    <tr style=\"text-align: right;\">\n",
       "      <th></th>\n",
       "      <th>common_name</th>\n",
       "      <th>scientific_name</th>\n",
       "      <th>type</th>\n",
       "      <th>diet</th>\n",
       "      <th>group_name</th>\n",
       "      <th>average_life_span_in_the_wild</th>\n",
       "      <th>size</th>\n",
       "      <th>weight</th>\n",
       "      <th>iucn_red_list_status</th>\n",
       "      <th>current_population_trend</th>\n",
       "      <th>source_url</th>\n",
       "    </tr>\n",
       "  </thead>\n",
       "  <tbody>\n",
       "    <tr>\n",
       "      <th>0</th>\n",
       "      <td>gentoo penguin</td>\n",
       "      <td>pygoscelis papua</td>\n",
       "      <td>birds</td>\n",
       "      <td>carnivore</td>\n",
       "      <td>colony</td>\n",
       "      <td>15 to 20 years</td>\n",
       "      <td>30 inches</td>\n",
       "      <td>12 pounds</td>\n",
       "      <td>near threatened</td>\n",
       "      <td>decreasing</td>\n",
       "      <td>https://www.nationalgeographic.com/animals/bir...</td>\n",
       "    </tr>\n",
       "    <tr>\n",
       "      <th>1</th>\n",
       "      <td>adélie penguin</td>\n",
       "      <td>pygoscelis adeliae</td>\n",
       "      <td>birds</td>\n",
       "      <td>carnivore</td>\n",
       "      <td>colony</td>\n",
       "      <td>11 to 20 years</td>\n",
       "      <td>27.5 inches</td>\n",
       "      <td>8.5 to 12 pounds</td>\n",
       "      <td>near threatened</td>\n",
       "      <td>increasing</td>\n",
       "      <td>https://www.nationalgeographic.com/animals/bir...</td>\n",
       "    </tr>\n",
       "    <tr>\n",
       "      <th>2</th>\n",
       "      <td>chinstrap penguin</td>\n",
       "      <td>pygoscelis antarcticus</td>\n",
       "      <td>NaN</td>\n",
       "      <td>carnivore</td>\n",
       "      <td>colony</td>\n",
       "      <td>NaN</td>\n",
       "      <td>28 inches</td>\n",
       "      <td>6.6–11.0 pounds</td>\n",
       "      <td>least concern</td>\n",
       "      <td>decreasing</td>\n",
       "      <td>https://www.nationalgeographic.com/animals/bir...</td>\n",
       "    </tr>\n",
       "  </tbody>\n",
       "</table>\n",
       "</div>"
      ]
     },
     "metadata": {},
     "execution_count": 7
    }
   ],
   "metadata": {}
  },
  {
   "cell_type": "code",
   "execution_count": 8,
   "source": [
    "df.to_csv(\"species.csv\", index=False)"
   ],
   "outputs": [],
   "metadata": {}
  }
 ],
 "metadata": {
  "interpreter": {
   "hash": "617baf094c207d53667057a81355ed8e45450f782c50f81de73cdf839b3f124b"
  },
  "kernelspec": {
   "name": "python3",
   "display_name": "Python 3.9.5 64-bit ('core': conda)"
  },
  "language_info": {
   "codemirror_mode": {
    "name": "ipython",
    "version": 3
   },
   "file_extension": ".py",
   "mimetype": "text/x-python",
   "name": "python",
   "nbconvert_exporter": "python",
   "pygments_lexer": "ipython3",
   "version": "3.9.5"
  },
  "toc": {
   "base_numbering": 1,
   "nav_menu": {},
   "number_sections": true,
   "sideBar": true,
   "skip_h1_title": false,
   "title_cell": "Table of Contents",
   "title_sidebar": "Contents",
   "toc_cell": false,
   "toc_position": {},
   "toc_section_display": true,
   "toc_window_display": false
  },
  "varInspector": {
   "cols": {
    "lenName": 16,
    "lenType": 16,
    "lenVar": 40
   },
   "kernels_config": {
    "python": {
     "delete_cmd_postfix": "",
     "delete_cmd_prefix": "del ",
     "library": "var_list.py",
     "varRefreshCmd": "print(var_dic_list())"
    },
    "r": {
     "delete_cmd_postfix": ") ",
     "delete_cmd_prefix": "rm(",
     "library": "var_list.r",
     "varRefreshCmd": "cat(var_dic_list()) "
    }
   },
   "types_to_exclude": [
    "module",
    "function",
    "builtin_function_or_method",
    "instance",
    "_Feature"
   ],
   "window_display": false
  }
 },
 "nbformat": 4,
 "nbformat_minor": 5
}